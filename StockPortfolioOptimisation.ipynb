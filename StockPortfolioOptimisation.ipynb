{
 "cells": [
  {
   "cell_type": "code",
   "execution_count": 1,
   "metadata": {},
   "outputs": [],
   "source": [
    "#. A program for portfolio optimiaztion using the efficent frontier"
   ]
  },
  {
   "cell_type": "code",
   "execution_count": 2,
   "metadata": {},
   "outputs": [],
   "source": [
    "from pandas_datareader import data as web\n",
    "import pandas as pd\n",
    "import numpy as np\n",
    "from datetime import datetime\n",
    "import matplotlib.pyplot as plt\n",
    "plt.style.use('fivethirtyeight')"
   ]
  },
  {
   "cell_type": "code",
   "execution_count": 3,
   "metadata": {},
   "outputs": [],
   "source": [
    "#Get stock symbols\n",
    "assets = ['AAPL', 'ALLT', 'NFLX', 'AMZN', 'GOOG']"
   ]
  },
  {
   "cell_type": "code",
   "execution_count": 4,
   "metadata": {},
   "outputs": [],
   "source": [
    "#Assign weights to the stocks\n",
    "weights = np.array([0.2, 0.2, 0.2, 0.2, 0.2])"
   ]
  },
  {
   "cell_type": "code",
   "execution_count": 5,
   "metadata": {},
   "outputs": [],
   "source": [
    "#Get stock/Portfolio starting date\n",
    "stockStartDate = '2015-12-12'"
   ]
  },
  {
   "cell_type": "code",
   "execution_count": 6,
   "metadata": {},
   "outputs": [
    {
     "data": {
      "text/plain": [
       "'2020-12-12'"
      ]
     },
     "execution_count": 6,
     "metadata": {},
     "output_type": "execute_result"
    }
   ],
   "source": [
    "#Get stock end date (today)\n",
    "today = datetime.today().strftime('%Y-%m-%d')\n",
    "today"
   ]
  },
  {
   "cell_type": "code",
   "execution_count": 7,
   "metadata": {},
   "outputs": [
    {
     "data": {
      "text/html": [
       "<div>\n",
       "<style scoped>\n",
       "    .dataframe tbody tr th:only-of-type {\n",
       "        vertical-align: middle;\n",
       "    }\n",
       "\n",
       "    .dataframe tbody tr th {\n",
       "        vertical-align: top;\n",
       "    }\n",
       "\n",
       "    .dataframe thead th {\n",
       "        text-align: right;\n",
       "    }\n",
       "</style>\n",
       "<table border=\"1\" class=\"dataframe\">\n",
       "  <thead>\n",
       "    <tr style=\"text-align: right;\">\n",
       "      <th></th>\n",
       "      <th>AAPL</th>\n",
       "      <th>ALLT</th>\n",
       "      <th>NFLX</th>\n",
       "      <th>AMZN</th>\n",
       "      <th>GOOG</th>\n",
       "    </tr>\n",
       "    <tr>\n",
       "      <th>Date</th>\n",
       "      <th></th>\n",
       "      <th></th>\n",
       "      <th></th>\n",
       "      <th></th>\n",
       "      <th></th>\n",
       "    </tr>\n",
       "  </thead>\n",
       "  <tbody>\n",
       "    <tr>\n",
       "      <th>2015-12-14</th>\n",
       "      <td>25.840809</td>\n",
       "      <td>5.40</td>\n",
       "      <td>120.669998</td>\n",
       "      <td>657.909973</td>\n",
       "      <td>747.770020</td>\n",
       "    </tr>\n",
       "    <tr>\n",
       "      <th>2015-12-15</th>\n",
       "      <td>25.383627</td>\n",
       "      <td>5.56</td>\n",
       "      <td>118.599998</td>\n",
       "      <td>658.640015</td>\n",
       "      <td>743.400024</td>\n",
       "    </tr>\n",
       "    <tr>\n",
       "      <th>2015-12-16</th>\n",
       "      <td>25.578905</td>\n",
       "      <td>5.90</td>\n",
       "      <td>122.639999</td>\n",
       "      <td>675.770020</td>\n",
       "      <td>758.090027</td>\n",
       "    </tr>\n",
       "    <tr>\n",
       "      <th>2015-12-17</th>\n",
       "      <td>25.036730</td>\n",
       "      <td>5.82</td>\n",
       "      <td>122.510002</td>\n",
       "      <td>670.650024</td>\n",
       "      <td>749.429993</td>\n",
       "    </tr>\n",
       "    <tr>\n",
       "      <th>2015-12-18</th>\n",
       "      <td>24.359007</td>\n",
       "      <td>5.83</td>\n",
       "      <td>118.019997</td>\n",
       "      <td>664.140015</td>\n",
       "      <td>739.309998</td>\n",
       "    </tr>\n",
       "    <tr>\n",
       "      <th>...</th>\n",
       "      <td>...</td>\n",
       "      <td>...</td>\n",
       "      <td>...</td>\n",
       "      <td>...</td>\n",
       "      <td>...</td>\n",
       "    </tr>\n",
       "    <tr>\n",
       "      <th>2020-12-07</th>\n",
       "      <td>123.750000</td>\n",
       "      <td>10.14</td>\n",
       "      <td>515.780029</td>\n",
       "      <td>3158.000000</td>\n",
       "      <td>1819.479980</td>\n",
       "    </tr>\n",
       "    <tr>\n",
       "      <th>2020-12-08</th>\n",
       "      <td>124.379997</td>\n",
       "      <td>10.33</td>\n",
       "      <td>512.659973</td>\n",
       "      <td>3177.290039</td>\n",
       "      <td>1818.550049</td>\n",
       "    </tr>\n",
       "    <tr>\n",
       "      <th>2020-12-09</th>\n",
       "      <td>121.779999</td>\n",
       "      <td>10.09</td>\n",
       "      <td>493.600006</td>\n",
       "      <td>3104.199951</td>\n",
       "      <td>1784.130005</td>\n",
       "    </tr>\n",
       "    <tr>\n",
       "      <th>2020-12-10</th>\n",
       "      <td>123.239998</td>\n",
       "      <td>10.03</td>\n",
       "      <td>501.089996</td>\n",
       "      <td>3101.489990</td>\n",
       "      <td>1775.329956</td>\n",
       "    </tr>\n",
       "    <tr>\n",
       "      <th>2020-12-11</th>\n",
       "      <td>122.410004</td>\n",
       "      <td>10.07</td>\n",
       "      <td>503.220001</td>\n",
       "      <td>3116.419922</td>\n",
       "      <td>1781.770020</td>\n",
       "    </tr>\n",
       "  </tbody>\n",
       "</table>\n",
       "<p>1259 rows × 5 columns</p>\n",
       "</div>"
      ],
      "text/plain": [
       "                  AAPL   ALLT        NFLX         AMZN         GOOG\n",
       "Date                                                               \n",
       "2015-12-14   25.840809   5.40  120.669998   657.909973   747.770020\n",
       "2015-12-15   25.383627   5.56  118.599998   658.640015   743.400024\n",
       "2015-12-16   25.578905   5.90  122.639999   675.770020   758.090027\n",
       "2015-12-17   25.036730   5.82  122.510002   670.650024   749.429993\n",
       "2015-12-18   24.359007   5.83  118.019997   664.140015   739.309998\n",
       "...                ...    ...         ...          ...          ...\n",
       "2020-12-07  123.750000  10.14  515.780029  3158.000000  1819.479980\n",
       "2020-12-08  124.379997  10.33  512.659973  3177.290039  1818.550049\n",
       "2020-12-09  121.779999  10.09  493.600006  3104.199951  1784.130005\n",
       "2020-12-10  123.239998  10.03  501.089996  3101.489990  1775.329956\n",
       "2020-12-11  122.410004  10.07  503.220001  3116.419922  1781.770020\n",
       "\n",
       "[1259 rows x 5 columns]"
      ]
     },
     "execution_count": 7,
     "metadata": {},
     "output_type": "execute_result"
    }
   ],
   "source": [
    "#Create a dataframe to store the adjusted close price of stocks\n",
    "df = pd.DataFrame()\n",
    "\n",
    "#Store the adjusted close price of the stock into the df\n",
    "for stock in assets:\n",
    "    df[stock] = web.DataReader(stock, data_source='yahoo', start =stockStartDate, end = today)['Adj Close']\n",
    "\n",
    "df"
   ]
  },
  {
   "cell_type": "code",
   "execution_count": 8,
   "metadata": {},
   "outputs": [
    {
     "data": {
      "text/plain": [
       "<matplotlib.legend.Legend at 0x7fb4da71b2e0>"
      ]
     },
     "execution_count": 8,
     "metadata": {},
     "output_type": "execute_result"
    },
    {
     "data": {
      "image/png": "[encoded data removed]",
      "text/plain": [
       "<Figure size 432x288 with 1 Axes>"
      ]
     },
     "metadata": {},
     "output_type": "display_data"
    }
   ],
   "source": [
    "# Visualize Portfolio\n",
    "title = 'Portfolio Adj. Close Price History'\n",
    "\n",
    "# Get the stocks\n",
    "my_stocks = df\n",
    "\n",
    "#Create and plot the graph\n",
    "for c in my_stocks.columns.values:\n",
    "    plt.plot(my_stocks[c], label = c)\n",
    "    \n",
    "plt.title(title)\n",
    "plt.xlabel('Date', fontsize=18)\n",
    "plt.ylabel('Adj. Price GBP (£)', fontsize =18)\n",
    "plt.legend(my_stocks.columns.values, loc= 'upper left')"
   ]
  },
  {
   "cell_type": "code",
   "execution_count": 9,
   "metadata": {},
   "outputs": [
    {
     "data": {
      "text/html": [
       "<div>\n",
       "<style scoped>\n",
       "    .dataframe tbody tr th:only-of-type {\n",
       "        vertical-align: middle;\n",
       "    }\n",
       "\n",
       "    .dataframe tbody tr th {\n",
       "        vertical-align: top;\n",
       "    }\n",
       "\n",
       "    .dataframe thead th {\n",
       "        text-align: right;\n",
       "    }\n",
       "</style>\n",
       "<table border=\"1\" class=\"dataframe\">\n",
       "  <thead>\n",
       "    <tr style=\"text-align: right;\">\n",
       "      <th></th>\n",
       "      <th>AAPL</th>\n",
       "      <th>ALLT</th>\n",
       "      <th>NFLX</th>\n",
       "      <th>AMZN</th>\n",
       "      <th>GOOG</th>\n",
       "    </tr>\n",
       "    <tr>\n",
       "      <th>Date</th>\n",
       "      <th></th>\n",
       "      <th></th>\n",
       "      <th></th>\n",
       "      <th></th>\n",
       "      <th></th>\n",
       "    </tr>\n",
       "  </thead>\n",
       "  <tbody>\n",
       "    <tr>\n",
       "      <th>2015-12-14</th>\n",
       "      <td>NaN</td>\n",
       "      <td>NaN</td>\n",
       "      <td>NaN</td>\n",
       "      <td>NaN</td>\n",
       "      <td>NaN</td>\n",
       "    </tr>\n",
       "    <tr>\n",
       "      <th>2015-12-15</th>\n",
       "      <td>-0.017692</td>\n",
       "      <td>0.029630</td>\n",
       "      <td>-0.017154</td>\n",
       "      <td>0.001110</td>\n",
       "      <td>-0.005844</td>\n",
       "    </tr>\n",
       "    <tr>\n",
       "      <th>2015-12-16</th>\n",
       "      <td>0.007693</td>\n",
       "      <td>0.061151</td>\n",
       "      <td>0.034064</td>\n",
       "      <td>0.026008</td>\n",
       "      <td>0.019761</td>\n",
       "    </tr>\n",
       "    <tr>\n",
       "      <th>2015-12-17</th>\n",
       "      <td>-0.021196</td>\n",
       "      <td>-0.013559</td>\n",
       "      <td>-0.001060</td>\n",
       "      <td>-0.007577</td>\n",
       "      <td>-0.011423</td>\n",
       "    </tr>\n",
       "    <tr>\n",
       "      <th>2015-12-18</th>\n",
       "      <td>-0.027069</td>\n",
       "      <td>0.001718</td>\n",
       "      <td>-0.036650</td>\n",
       "      <td>-0.009707</td>\n",
       "      <td>-0.013504</td>\n",
       "    </tr>\n",
       "    <tr>\n",
       "      <th>...</th>\n",
       "      <td>...</td>\n",
       "      <td>...</td>\n",
       "      <td>...</td>\n",
       "      <td>...</td>\n",
       "      <td>...</td>\n",
       "    </tr>\n",
       "    <tr>\n",
       "      <th>2020-12-07</th>\n",
       "      <td>0.012270</td>\n",
       "      <td>-0.007828</td>\n",
       "      <td>0.035059</td>\n",
       "      <td>-0.001448</td>\n",
       "      <td>-0.004655</td>\n",
       "    </tr>\n",
       "    <tr>\n",
       "      <th>2020-12-08</th>\n",
       "      <td>0.005091</td>\n",
       "      <td>0.018738</td>\n",
       "      <td>-0.006049</td>\n",
       "      <td>0.006108</td>\n",
       "      <td>-0.000511</td>\n",
       "    </tr>\n",
       "    <tr>\n",
       "      <th>2020-12-09</th>\n",
       "      <td>-0.020904</td>\n",
       "      <td>-0.023233</td>\n",
       "      <td>-0.037179</td>\n",
       "      <td>-0.023004</td>\n",
       "      <td>-0.018927</td>\n",
       "    </tr>\n",
       "    <tr>\n",
       "      <th>2020-12-10</th>\n",
       "      <td>0.011989</td>\n",
       "      <td>-0.005947</td>\n",
       "      <td>0.015174</td>\n",
       "      <td>-0.000873</td>\n",
       "      <td>-0.004932</td>\n",
       "    </tr>\n",
       "    <tr>\n",
       "      <th>2020-12-11</th>\n",
       "      <td>-0.006735</td>\n",
       "      <td>0.003988</td>\n",
       "      <td>0.004251</td>\n",
       "      <td>0.004814</td>\n",
       "      <td>0.003628</td>\n",
       "    </tr>\n",
       "  </tbody>\n",
       "</table>\n",
       "<p>1259 rows × 5 columns</p>\n",
       "</div>"
      ],
      "text/plain": [
       "                AAPL      ALLT      NFLX      AMZN      GOOG\n",
       "Date                                                        \n",
       "2015-12-14       NaN       NaN       NaN       NaN       NaN\n",
       "2015-12-15 -0.017692  0.029630 -0.017154  0.001110 -0.005844\n",
       "2015-12-16  0.007693  0.061151  0.034064  0.026008  0.019761\n",
       "2015-12-17 -0.021196 -0.013559 -0.001060 -0.007577 -0.011423\n",
       "2015-12-18 -0.027069  0.001718 -0.036650 -0.009707 -0.013504\n",
       "...              ...       ...       ...       ...       ...\n",
       "2020-12-07  0.012270 -0.007828  0.035059 -0.001448 -0.004655\n",
       "2020-12-08  0.005091  0.018738 -0.006049  0.006108 -0.000511\n",
       "2020-12-09 -0.020904 -0.023233 -0.037179 -0.023004 -0.018927\n",
       "2020-12-10  0.011989 -0.005947  0.015174 -0.000873 -0.004932\n",
       "2020-12-11 -0.006735  0.003988  0.004251  0.004814  0.003628\n",
       "\n",
       "[1259 rows x 5 columns]"
      ]
     },
     "execution_count": 9,
     "metadata": {},
     "output_type": "execute_result"
    }
   ],
   "source": [
    "#Show daily simple returns\n",
    "returns = df.pct_change()\n",
    "returns\n"
   ]
  },
  {
   "cell_type": "code",
   "execution_count": 10,
   "metadata": {},
   "outputs": [
    {
     "data": {
      "text/html": [
       "<div>\n",
       "<style scoped>\n",
       "    .dataframe tbody tr th:only-of-type {\n",
       "        vertical-align: middle;\n",
       "    }\n",
       "\n",
       "    .dataframe tbody tr th {\n",
       "        vertical-align: top;\n",
       "    }\n",
       "\n",
       "    .dataframe thead th {\n",
       "        text-align: right;\n",
       "    }\n",
       "</style>\n",
       "<table border=\"1\" class=\"dataframe\">\n",
       "  <thead>\n",
       "    <tr style=\"text-align: right;\">\n",
       "      <th></th>\n",
       "      <th>AAPL</th>\n",
       "      <th>ALLT</th>\n",
       "      <th>NFLX</th>\n",
       "      <th>AMZN</th>\n",
       "      <th>GOOG</th>\n",
       "    </tr>\n",
       "  </thead>\n",
       "  <tbody>\n",
       "    <tr>\n",
       "      <th>AAPL</th>\n",
       "      <td>0.090716</td>\n",
       "      <td>0.038968</td>\n",
       "      <td>0.056284</td>\n",
       "      <td>0.054585</td>\n",
       "      <td>0.052247</td>\n",
       "    </tr>\n",
       "    <tr>\n",
       "      <th>ALLT</th>\n",
       "      <td>0.038968</td>\n",
       "      <td>0.149031</td>\n",
       "      <td>0.029486</td>\n",
       "      <td>0.030133</td>\n",
       "      <td>0.033020</td>\n",
       "    </tr>\n",
       "    <tr>\n",
       "      <th>NFLX</th>\n",
       "      <td>0.056284</td>\n",
       "      <td>0.029486</td>\n",
       "      <td>0.165015</td>\n",
       "      <td>0.071991</td>\n",
       "      <td>0.055298</td>\n",
       "    </tr>\n",
       "    <tr>\n",
       "      <th>AMZN</th>\n",
       "      <td>0.054585</td>\n",
       "      <td>0.030133</td>\n",
       "      <td>0.071991</td>\n",
       "      <td>0.092610</td>\n",
       "      <td>0.053795</td>\n",
       "    </tr>\n",
       "    <tr>\n",
       "      <th>GOOG</th>\n",
       "      <td>0.052247</td>\n",
       "      <td>0.033020</td>\n",
       "      <td>0.055298</td>\n",
       "      <td>0.053795</td>\n",
       "      <td>0.069744</td>\n",
       "    </tr>\n",
       "  </tbody>\n",
       "</table>\n",
       "</div>"
      ],
      "text/plain": [
       "          AAPL      ALLT      NFLX      AMZN      GOOG\n",
       "AAPL  0.090716  0.038968  0.056284  0.054585  0.052247\n",
       "ALLT  0.038968  0.149031  0.029486  0.030133  0.033020\n",
       "NFLX  0.056284  0.029486  0.165015  0.071991  0.055298\n",
       "AMZN  0.054585  0.030133  0.071991  0.092610  0.053795\n",
       "GOOG  0.052247  0.033020  0.055298  0.053795  0.069744"
      ]
     },
     "execution_count": 10,
     "metadata": {},
     "output_type": "execute_result"
    }
   ],
   "source": [
    "#Create and show annualized covariance matrix (directional relationship between asset prices)\n",
    "#Number of trading days in this year = 252\n",
    "cov_matrix_annual = returns.cov()*252  \n",
    "cov_matrix_annual"
   ]
  },
  {
   "cell_type": "code",
   "execution_count": 11,
   "metadata": {},
   "outputs": [
    {
     "data": {
      "text/plain": [
       "0.06074906939058958"
      ]
     },
     "execution_count": 11,
     "metadata": {},
     "output_type": "execute_result"
    }
   ],
   "source": [
    "#Calculate portfolio variance\n",
    "port_variance = np.dot(weights.T, np.dot(cov_matrix_annual, weights))\n",
    "port_variance"
   ]
  },
  {
   "cell_type": "code",
   "execution_count": 12,
   "metadata": {},
   "outputs": [
    {
     "data": {
      "text/plain": [
       "0.24647326303392336"
      ]
     },
     "execution_count": 12,
     "metadata": {},
     "output_type": "execute_result"
    }
   ],
   "source": [
    "#Calculate the portfolio volatility : standard deviation\n",
    "port_volatility = np.sqrt(port_variance)\n",
    "port_volatility"
   ]
  },
  {
   "cell_type": "code",
   "execution_count": 13,
   "metadata": {},
   "outputs": [
    {
     "data": {
      "text/plain": [
       "0.2980376295029228"
      ]
     },
     "execution_count": 13,
     "metadata": {},
     "output_type": "execute_result"
    }
   ],
   "source": [
    "#annual portfolio return\n",
    "portfolioSimpleAnnualReturn = np.sum(returns.mean()*weights*252)\n",
    "portfolioSimpleAnnualReturn"
   ]
  },
  {
   "cell_type": "code",
   "execution_count": 14,
   "metadata": {},
   "outputs": [
    {
     "name": "stdout",
     "output_type": "stream",
     "text": [
      "Expected annual return30.0%\n",
      "Annual volatility / risk: 25.0%\n",
      "Annual variance:6.0%\n"
     ]
    }
   ],
   "source": [
    "#Show expected annual return, volatility (risk) and variance\n",
    "percent_var = str(round(port_variance, 2)*100) +'%'\n",
    "percent_vols = str(round(port_volatility, 2)*100)+ '%'\n",
    "percent_ret= str(round(portfolioSimpleAnnualReturn, 2)*100) + '%'\n",
    "\n",
    "print('Expected annual return' + percent_ret)\n",
    "print('Annual volatility / risk: '+percent_vols)\n",
    "print('Annual variance:' +percent_var)"
   ]
  },
  {
   "cell_type": "code",
   "execution_count": 15,
   "metadata": {
    "scrolled": true
   },
   "outputs": [
    {
     "name": "stdout",
     "output_type": "stream",
     "text": [
      "Requirement already satisfied: PyPortfolioOpt in /Applications/anaconda3/lib/python3.8/site-packages (1.2.7)\n",
      "Requirement already satisfied: cvxopt<2.0,>=1.2 in /Applications/anaconda3/lib/python3.8/site-packages (from PyPortfolioOpt) (1.2.5)\n",
      "Requirement already satisfied: scipy<2.0,>=1.3 in /Applications/anaconda3/lib/python3.8/site-packages (from PyPortfolioOpt) (1.5.2)\n",
      "Requirement already satisfied: cvxpy<2.0,>=1.0 in /Applications/anaconda3/lib/python3.8/site-packages (from PyPortfolioOpt) (1.1.7)\n",
      "Requirement already satisfied: pandas>=0.19 in /Applications/anaconda3/lib/python3.8/site-packages (from PyPortfolioOpt) (1.1.3)\n",
      "Requirement already satisfied: numpy<2.0,>=1.12 in /Applications/anaconda3/lib/python3.8/site-packages (from PyPortfolioOpt) (1.18.5)\n",
      "Requirement already satisfied: scs>=1.1.6 in /Applications/anaconda3/lib/python3.8/site-packages (from cvxpy<2.0,>=1.0->PyPortfolioOpt) (2.1.2)\n",
      "Requirement already satisfied: osqp>=0.4.1 in /Applications/anaconda3/lib/python3.8/site-packages (from cvxpy<2.0,>=1.0->PyPortfolioOpt) (0.6.1)\n",
      "Requirement already satisfied: ecos>=2 in /Applications/anaconda3/lib/python3.8/site-packages (from cvxpy<2.0,>=1.0->PyPortfolioOpt) (2.0.7.post1)\n",
      "Requirement already satisfied: pytz>=2017.2 in /Applications/anaconda3/lib/python3.8/site-packages (from pandas>=0.19->PyPortfolioOpt) (2020.1)\n",
      "Requirement already satisfied: python-dateutil>=2.7.3 in /Applications/anaconda3/lib/python3.8/site-packages (from pandas>=0.19->PyPortfolioOpt) (2.8.1)\n",
      "Requirement already satisfied: future in /Applications/anaconda3/lib/python3.8/site-packages (from osqp>=0.4.1->cvxpy<2.0,>=1.0->PyPortfolioOpt) (0.18.2)\n",
      "Requirement already satisfied: six>=1.5 in /Applications/anaconda3/lib/python3.8/site-packages (from python-dateutil>=2.7.3->pandas>=0.19->PyPortfolioOpt) (1.15.0)\n",
      "Note: you may need to restart the kernel to use updated packages.\n"
     ]
    }
   ],
   "source": [
    "pip install PyPortfolioOpt"
   ]
  },
  {
   "cell_type": "code",
   "execution_count": 19,
   "metadata": {},
   "outputs": [],
   "source": [
    "from pypfopt.efficient_frontier import EfficientFrontier\n",
    "from pypfopt import risk_models\n",
    "from pypfopt import expected_returns"
   ]
  },
  {
   "cell_type": "code",
   "execution_count": 20,
   "metadata": {},
   "outputs": [
    {
     "name": "stdout",
     "output_type": "stream",
     "text": [
      "OrderedDict([('AAPL', 0.50743), ('ALLT', 0.0), ('NFLX', 0.01787), ('AMZN', 0.4747), ('GOOG', 0.0)])\n",
      "Expected annual return: 36.5%\n",
      "Annual volatility: 27.0%\n",
      "Sharpe Ratio: 1.28\n"
     ]
    },
    {
     "data": {
      "text/plain": [
       "(0.3649579303497149, 0.26984852027167966, 1.278339158585773)"
      ]
     },
     "execution_count": 20,
     "metadata": {},
     "output_type": "execute_result"
    }
   ],
   "source": [
    "#Portfolio Optimization\n",
    "\n",
    "#Calculate the expected returns and the annualised sample covariance matrix of an asset returns\n",
    "mu = expected_returns.mean_historical_return(df)\n",
    "S = risk_models.sample_cov(df)\n",
    "\n",
    "#optimize for max sharpe ratio\n",
    "ef = EfficientFrontier(mu, S)\n",
    "weights = ef.max_sharpe()\n",
    "cleaned_weights = ef.clean_weights()\n",
    "print(cleaned_weights)\n",
    "ef.portfolio_performance(verbose = True)"
   ]
  },
  {
   "cell_type": "code",
   "execution_count": 24,
   "metadata": {},
   "outputs": [
    {
     "name": "stdout",
     "output_type": "stream",
     "text": [
      "Discrete allocation: {'AAPL': 63, 'NFLX': 1, 'AMZN': 2}\n",
      "Funds remaining: $552.11\n"
     ]
    }
   ],
   "source": [
    "#Get discrete allocation of each share per stock\n",
    "from pypfopt.discrete_allocation import DiscreteAllocation, get_latest_prices\n",
    "\n",
    "latest_prices = get_latest_prices(df)\n",
    "weights = cleaned_weights\n",
    "da = DiscreteAllocation(weights, latest_prices, total_portfolio_value = 15000)\n",
    "\n",
    "allocation, leftover = da.lp_portfolio()\n",
    "print('Discrete allocation:', allocation)\n",
    "print('Funds remaining: ${:.2f}'.format(leftover))"
   ]
  },
  {
   "cell_type": "code",
   "execution_count": null,
   "metadata": {},
   "outputs": [],
   "source": []
  }
 ],
 "metadata": {
  "kernelspec": {
   "display_name": "Python 3",
   "language": "python",
   "name": "python3"
  },
  "language_info": {
   "codemirror_mode": {
    "name": "ipython",
    "version": 3
   },
   "file_extension": ".py",
   "mimetype": "text/x-python",
   "name": "python",
   "nbconvert_exporter": "python",
   "pygments_lexer": "ipython3",
   "version": "3.8.5"
  }
 },
 "nbformat": 4,
 "nbformat_minor": 4
}
